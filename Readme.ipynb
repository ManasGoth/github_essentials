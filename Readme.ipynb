{
 "cells": [
  {
   "cell_type": "markdown",
   "metadata": {},
   "source": [
    "### Github getting You started"
   ]
  },
  {
   "cell_type": "markdown",
   "metadata": {},
   "source": [
    "Github is most useful for source control. When 2 people are working on the same file then versioning of the source control becomes necessary. "
   ]
  },
  {
   "cell_type": "markdown",
   "metadata": {},
   "source": [
    "To install git on windows go to :\n",
    "    https://git-scm.com/downloads\n",
    "    Download and install    "
   ]
  },
  {
   "cell_type": "markdown",
   "metadata": {
    "collapsed": true
   },
   "source": [
    "Create a new git repository (github_essentials)\n",
    "Copy the url of the repository\n",
    "Create 2 folders: FolderX and FolderY and clone your git repository in both of them. \n",
    "Go to windows run . Navigate to both the folder one by one and clone the git repository by the following command\n",
    "#### git clone <enter url here>"
   ]
  },
  {
   "cell_type": "code",
   "execution_count": null,
   "metadata": {
    "collapsed": true
   },
   "outputs": [],
   "source": [
    "Go to FolderX \n",
    "create a python file by the name \"number.py\" and save it. "
   ]
  },
  {
   "cell_type": "code",
   "execution_count": null,
   "metadata": {
    "collapsed": true
   },
   "outputs": [],
   "source": [
    "#number.py\n",
    "import pandas as pd\n",
    "numbers = [1,2,3,4,5]\n",
    "print([i for i in numbers if i%2 == 0])"
   ]
  },
  {
   "cell_type": "markdown",
   "metadata": {},
   "source": [
    "Now let's check the current status of the FolderX>github_essentials\n",
    "#### git status\n",
    "On branch master\n",
    "\n",
    "No commits yet\n",
    "\n",
    "Untracked files:\n",
    "  (use \"git add <file>...\" to include in what will be committed)\n",
    "\n",
    "        .ipynb_checkpoints/\n",
    "        numbers.ipynb\n",
    "\n",
    "nothing added to commit but untracked files present (use \"git add\" to track)"
   ]
  },
  {
   "cell_type": "markdown",
   "metadata": {},
   "source": [
    "Untracked files : means that github repository on the cloud has no clue about the new file added in local\n",
    "so now do a \n",
    "#### git add numbers.ipynb\n",
    "after adding perfor a \n",
    "#### git status\n",
    "On branch master\n",
    "\n",
    "No commits yet\n",
    "\n",
    "Changes to be committed:\n",
    "  (use \"git rm --cached <file>...\" to unstage)\n",
    "\n",
    "        new file:   numbers.ipynb\n",
    "\n",
    "Untracked files:\n",
    "  (use \"git add <file>...\" to include in what will be committed)\n",
    "\n",
    "        .ipynb_checkpoints/"
   ]
  },
  {
   "cell_type": "code",
   "execution_count": null,
   "metadata": {
    "collapsed": true
   },
   "outputs": [],
   "source": [
    "Changes to be committed: means that the files on your local need to committed to github repository on my local machine."
   ]
  },
  {
   "cell_type": "markdown",
   "metadata": {},
   "source": [
    "#### git commit \n",
    "on doing this you will land to a multiline message screen .\n",
    "Enter your comments and then ESC + :wq -> Enter\n",
    "\n",
    "Another way of doing a commit is \n",
    "\n",
    "#### git commit -m \"put your meesage here\" \n"
   ]
  },
  {
   "cell_type": "code",
   "execution_count": null,
   "metadata": {
    "collapsed": true
   },
   "outputs": [],
   "source": [
    "Now you have created -> ADDED -> COMMITTED you changes to the local machine.\n",
    "Next is to PUSH these changes to the repository on the cloud\n",
    "#### git push "
   ]
  }
 ],
 "metadata": {
  "kernelspec": {
   "display_name": "Python 3",
   "language": "python",
   "name": "python3"
  },
  "language_info": {
   "codemirror_mode": {
    "name": "ipython",
    "version": 3
   },
   "file_extension": ".py",
   "mimetype": "text/x-python",
   "name": "python",
   "nbconvert_exporter": "python",
   "pygments_lexer": "ipython3",
   "version": "3.6.1"
  }
 },
 "nbformat": 4,
 "nbformat_minor": 2
}
